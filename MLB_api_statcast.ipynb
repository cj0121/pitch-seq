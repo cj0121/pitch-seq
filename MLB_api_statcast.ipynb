{
 "cells": [
  {
   "cell_type": "markdown",
   "id": "04889099",
   "metadata": {},
   "source": [
    "Pull statcast from mlb_stats_api.\n",
    "\n",
    "mlb_stats_api: https://github.com/toddrob99/MLB-StatsAPI"
   ]
  },
  {
   "cell_type": "code",
   "execution_count": 1,
   "id": "05d44560",
   "metadata": {},
   "outputs": [
    {
     "data": {
      "application/javascript": [
       "if (!(\"Notification\" in window)) {\n",
       "    alert(\"This browser does not support desktop notifications, so the %%notify magic will not work.\");\n",
       "} else if (Notification.permission !== 'granted' && Notification.permission !== 'denied') {\n",
       "    Notification.requestPermission(function (permission) {\n",
       "        if(!('permission' in Notification)) {\n",
       "            Notification.permission = permission;\n",
       "        }\n",
       "    })\n",
       "}\n"
      ],
      "text/plain": [
       "<IPython.core.display.Javascript object>"
      ]
     },
     "metadata": {},
     "output_type": "display_data"
    }
   ],
   "source": [
    "%load_ext jupyternotify\n",
    "import pandas as pd\n",
    "import numpy as np\n",
    "import seaborn as sns\n",
    "import time\n",
    "import timeit\n",
    "import statsapi\n",
    "\n",
    "from matplotlib import pyplot as plt\n",
    "from tqdm.auto import tqdm\n",
    "\n",
    "pd.set_option('display.max_columns', None)"
   ]
  },
  {
   "cell_type": "code",
   "execution_count": 2,
   "id": "cbbcb510",
   "metadata": {},
   "outputs": [],
   "source": [
    "np.set_printoptions(suppress=True)"
   ]
  },
  {
   "cell_type": "code",
   "execution_count": 3,
   "id": "d8e1e9d1",
   "metadata": {},
   "outputs": [
    {
     "data": {
      "text/html": [
       "<style>.container { width:100% !important; }</style>"
      ],
      "text/plain": [
       "<IPython.core.display.HTML object>"
      ]
     },
     "metadata": {},
     "output_type": "display_data"
    }
   ],
   "source": [
    "from IPython.display import display, HTML\n",
    "display(HTML(\"<style>.container { width:100% !important; }</style>\"))"
   ]
  },
  {
   "cell_type": "code",
   "execution_count": 4,
   "id": "566fb000",
   "metadata": {
    "scrolled": true
   },
   "outputs": [],
   "source": [
    "# Get game_pk from current schedule\n",
    "game_data = pd.read_csv('data/current_schedule.csv', index_col=[0])"
   ]
  },
  {
   "cell_type": "code",
   "execution_count": 6,
   "id": "e7dfb42a",
   "metadata": {
    "scrolled": true
   },
   "outputs": [
    {
     "data": {
      "text/plain": [
       "'2022-09-24'"
      ]
     },
     "execution_count": 6,
     "metadata": {},
     "output_type": "execute_result"
    }
   ],
   "source": [
    "game_data['game_date'].max()"
   ]
  },
  {
   "cell_type": "code",
   "execution_count": 9,
   "id": "8a55f0a4",
   "metadata": {
    "scrolled": true
   },
   "outputs": [],
   "source": [
    "# retrive game_pk before the 2022 ASG as a list\n",
    "game_pk_list = game_data[game_data['game_date']<'2022-07-19']['game_id'].to_list()"
   ]
  },
  {
   "cell_type": "code",
   "execution_count": 37,
   "id": "dda26b0d",
   "metadata": {},
   "outputs": [],
   "source": [
    "def pull_pitch_data(game_pk):\n",
    "    try:\n",
    "        data = statsapi.get('game', {'gamePk':game_pk}, force=False)\n",
    "    except:\n",
    "        return None\n",
    "    \n",
    "    gameData = data['gameData']\n",
    "\n",
    "    game_data_dict = {}\n",
    "\n",
    "    game_data_dict['gamePk'] = game_pk\n",
    "    try:\n",
    "        game_data_dict['gameType'] = gameData['game']['type']\n",
    "    except:\n",
    "        game_data_dict['gameType'] = np.nan\n",
    "    try:\n",
    "        game_data_dict['gameNumber'] = gameData['game']['gameNumber']\n",
    "    except:\n",
    "        game_data_dict['gameNumber'] = np.nan\n",
    "    try:\n",
    "        game_data_dict['season'] = gameData['game']['season']\n",
    "    except:\n",
    "        game_data_dict['season'] = np.nan\n",
    "    try:\n",
    "        game_data_dict['officialDate'] = gameData['datetime']['officialDate']\n",
    "    except:\n",
    "        game_data_dict['officialDate'] = np.nan\n",
    "    try:\n",
    "        game_data_dict['abstractGameState'] = gameData['status']['abstractGameState']\n",
    "    except:\n",
    "        game_data_dict['abstractGameState'] = np.nan\n",
    "    try:\n",
    "        game_data_dict['awayTeamCode'] = gameData['teams']['away']['teamCode']\n",
    "    except:\n",
    "        game_data_dict['awayTeamCode'] = np.nan\n",
    "    try:\n",
    "        game_data_dict['awayAbbreviation'] = gameData['teams']['away']['abbreviation']\n",
    "    except:\n",
    "        game_data_dict['awayAbbreviation'] = np.nan\n",
    "    try:\n",
    "        game_data_dict['homeTeamCode'] = gameData['teams']['home']['teamCode']\n",
    "    except:\n",
    "        game_data_dict['homeTeamCode'] = np.nan\n",
    "    try:\n",
    "        game_data_dict['homeAbbreviation'] = gameData['teams']['home']['abbreviation']\n",
    "    except:\n",
    "        game_data_dict['homeAbbreviation'] = np.nan\n",
    "    try:\n",
    "        game_data_dict['venueId'] = gameData['venue']['id']\n",
    "    except:\n",
    "        game_data_dict['venueId'] = np.nan\n",
    "    try:\n",
    "        game_data_dict['venueName'] = gameData['venue']['name']\n",
    "    except:\n",
    "        game_data_dict['venueName'] = np.nan\n",
    "    try:\n",
    "        game_data_dict['weatherCond'] = gameData['weather']['condition']\n",
    "    except:\n",
    "        game_data_dict['weatherCond'] = np.nan\n",
    "    try:\n",
    "        game_data_dict['temp'] = gameData['weather']['temp']\n",
    "    except:\n",
    "        game_data_dict['temp'] = np.nan\n",
    "    try:\n",
    "        game_data_dict['wind'] = gameData['weather']['wind']\n",
    "    except:\n",
    "        game_data_dict['wind'] = np.nan\n",
    "\n",
    "    allPlays = data['liveData']['plays']['allPlays']\n",
    "\n",
    "    allPlays_df = pd.json_normalize(allPlays, \n",
    "                     record_path = ['playEvents'],\n",
    "                     meta=[['result', 'type'],\n",
    "                          ['result', 'event'],\n",
    "                          ['result', 'eventType'],\n",
    "                          ['result', 'description'],\n",
    "                          ['result', 'rbi'],\n",
    "                          ['result', 'awayScore'],\n",
    "                          ['result', 'homeScore'],\n",
    "                          ['about', 'atBatIndex'],\n",
    "                          ['about', 'halfInning'],\n",
    "                          ['about', 'isTopInning'],\n",
    "                          ['about', 'inning'],\n",
    "                          ['about', 'startTime'],\n",
    "                          ['about', 'endTime'],\n",
    "                          ['about', 'isComplete'],\n",
    "                          ['about', 'isScoringPlay'],\n",
    "                          ['about', 'hasReview'],\n",
    "                          ['about', 'hasOut'],\n",
    "                          ['about', 'captivatingIndex'],\n",
    "                          ['matchup', 'batter', 'id'],\n",
    "                          ['matchup', 'batter', 'fullName'],\n",
    "                          ['matchup', 'batter', 'link'],\n",
    "                          ['matchup', 'batSide', 'code'],\n",
    "                          ['matchup', 'batSide', 'description'],\n",
    "                          ['matchup', 'pitcher', 'id'],\n",
    "                          ['matchup', 'pitcher', 'fullName'],\n",
    "                          ['matchup', 'pitcher', 'link'],\n",
    "                          ['matchup', 'pitchHand', 'code'],\n",
    "                          ['matchup', 'pitchHand', 'description'],\n",
    "                          ['matchup', 'splits', 'batter'],\n",
    "                          ['matchup', 'splits', 'pitcher'],\n",
    "                          ['matchup', 'splits', 'menOnBase']], errors='ignore')\n",
    "\n",
    "    allPlays_dict = allPlays_df.to_dict('records')\n",
    "\n",
    "    return [{**play_dict, **game_data_dict} for play_dict in allPlays_dict]"
   ]
  },
  {
   "cell_type": "code",
   "execution_count": 38,
   "id": "a3f21370",
   "metadata": {},
   "outputs": [
    {
     "data": {
      "application/vnd.jupyter.widget-view+json": {
       "model_id": "d1b66bdca4c74a54a90b674d1850bd4e",
       "version_major": 2,
       "version_minor": 0
      },
      "text/plain": [
       "  0%|          | 0/9878 [00:00<?, ?it/s]"
      ]
     },
     "metadata": {},
     "output_type": "display_data"
    }
   ],
   "source": [
    "# pull statcast into an array\n",
    "data_arr_all = np.empty([0])\n",
    "for game_pk in tqdm(game_pk_list):\n",
    "    data_arr = pull_pitch_data(game_pk)\n",
    "    data_arr_all = np.concatenate([data_arr_all, data_arr])"
   ]
  },
  {
   "cell_type": "code",
   "execution_count": 42,
   "id": "e5bd5596",
   "metadata": {},
   "outputs": [],
   "source": [
    "data_list = list(data_arr_all)"
   ]
  },
  {
   "cell_type": "code",
   "execution_count": 139,
   "id": "8f7a4c22",
   "metadata": {},
   "outputs": [],
   "source": [
    "# split full list into 7 chunks with 500000 elements each\n",
    "chunk_size = 500000\n",
    "full_list = data_list\n",
    "chunked_list = [full_list[i:i+chunk_size] for i in range(0, len(full_list), chunk_size)]"
   ]
  },
  {
   "cell_type": "code",
   "execution_count": 146,
   "id": "3a483c7a",
   "metadata": {},
   "outputs": [
    {
     "data": {
      "application/vnd.jupyter.widget-view+json": {
       "model_id": "9cd2874754c2476e884d3c0918819aac",
       "version_major": 2,
       "version_minor": 0
      },
      "text/plain": [
       "  0%|          | 0/7 [00:00<?, ?it/s]"
      ]
     },
     "metadata": {},
     "output_type": "display_data"
    }
   ],
   "source": [
    "# turn chunked list into dataframes\n",
    "for i in tqdm(range(len(chunked_list))):\n",
    "    chunk_df = pd.DataFrame(chunked_list[i])\n",
    "    chunk_df.to_csv(f'new_statcast/df_{i+1}.csv')"
   ]
  },
  {
   "cell_type": "code",
   "execution_count": 162,
   "id": "7d019265",
   "metadata": {},
   "outputs": [
    {
     "name": "stderr",
     "output_type": "stream",
     "text": [
      "/Users/honeybunny/opt/anaconda3/lib/python3.9/site-packages/IPython/core/interactiveshell.py:3444: DtypeWarning: Columns (125,127,128,129,130,132) have mixed types.Specify dtype option on import or set low_memory=False.\n",
      "  exec(code_obj, self.user_global_ns, self.user_ns)\n"
     ]
    }
   ],
   "source": [
    "# df1 = pd.read_csv('new_statcast/df_1.csv', index_col=[0])\n",
    "# df2 = pd.read_csv('new_statcast/df_2.csv', index_col=[0])\n",
    "# df3 = pd.read_csv('new_statcast/df_3.csv', index_col=[0])\n",
    "# df4 = pd.read_csv('new_statcast/df_4.csv', index_col=[0])\n",
    "# df5 = pd.read_csv('new_statcast/df_5.csv', index_col=[0])\n",
    "# df6 = pd.read_csv('new_statcast/df_6.csv', index_col=[0])\n",
    "# df7 = pd.read_csv('new_statcast/df_7.csv', index_col=[0])"
   ]
  },
  {
   "cell_type": "code",
   "execution_count": 163,
   "id": "fa281252",
   "metadata": {},
   "outputs": [],
   "source": [
    "# df_all = pd.concat([df1, df2, df3, df4, df5, df6, df7])\n",
    "# df_all.to_csv('new_statcast/df_all.csv')"
   ]
  }
 ],
 "metadata": {
  "kernelspec": {
   "display_name": "Python [conda env:pitch_seq]",
   "language": "python",
   "name": "conda-env-pitch_seq-py"
  },
  "language_info": {
   "codemirror_mode": {
    "name": "ipython",
    "version": 3
   },
   "file_extension": ".py",
   "mimetype": "text/x-python",
   "name": "python",
   "nbconvert_exporter": "python",
   "pygments_lexer": "ipython3",
   "version": "3.9.13"
  }
 },
 "nbformat": 4,
 "nbformat_minor": 5
}
